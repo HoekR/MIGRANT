{
 "cells": [
  {
   "cell_type": "markdown",
   "metadata": {},
   "source": [
    "# Data explorations emigration: image measures\n",
    "\n",
    "In this sheet we will explore the possibilities to come to a reasonably typology of the density of the images"
   ]
  },
  {
   "cell_type": "code",
   "execution_count": 118,
   "metadata": {},
   "outputs": [],
   "source": [
    "import os\n",
    "import pandas as pd\n",
    "import seaborn as sns\n",
    "import matplotlib.pyplot as plt\n"
   ]
  },
  {
   "cell_type": "code",
   "execution_count": 119,
   "metadata": {},
   "outputs": [
    {
     "data": {
      "text/html": [
       "<div>\n",
       "<style scoped>\n",
       "    .dataframe tbody tr th:only-of-type {\n",
       "        vertical-align: middle;\n",
       "    }\n",
       "\n",
       "    .dataframe tbody tr th {\n",
       "        vertical-align: top;\n",
       "    }\n",
       "\n",
       "    .dataframe thead th {\n",
       "        text-align: right;\n",
       "    }\n",
       "</style>\n",
       "<table border=\"1\" class=\"dataframe\">\n",
       "  <thead>\n",
       "    <tr style=\"text-align: right;\">\n",
       "      <th></th>\n",
       "      <th>file</th>\n",
       "      <th>edges</th>\n",
       "      <th>url</th>\n",
       "    </tr>\n",
       "  </thead>\n",
       "  <tbody>\n",
       "    <tr>\n",
       "      <th>0</th>\n",
       "      <td>NL-HaNA_2.05.159_1_0191.jpg</td>\n",
       "      <td>1152.0</td>\n",
       "      <td>https://migrantcards.huygens.knaw.nl/cards/01/</td>\n",
       "    </tr>\n",
       "    <tr>\n",
       "      <th>1</th>\n",
       "      <td>NL-HaNA_2.05.159_1_1329.jpg</td>\n",
       "      <td>1276.0</td>\n",
       "      <td>https://migrantcards.huygens.knaw.nl/cards/01/</td>\n",
       "    </tr>\n",
       "    <tr>\n",
       "      <th>2</th>\n",
       "      <td>NL-HaNA_2.05.159_1_0181.jpg</td>\n",
       "      <td>784.0</td>\n",
       "      <td>https://migrantcards.huygens.knaw.nl/cards/01/</td>\n",
       "    </tr>\n",
       "    <tr>\n",
       "      <th>3</th>\n",
       "      <td>NL-HaNA_2.05.159_1_2221.jpg</td>\n",
       "      <td>2453.0</td>\n",
       "      <td>https://migrantcards.huygens.knaw.nl/cards/01/</td>\n",
       "    </tr>\n",
       "    <tr>\n",
       "      <th>4</th>\n",
       "      <td>NL-HaNA_2.05.159_1_1912.jpg</td>\n",
       "      <td>1277.0</td>\n",
       "      <td>https://migrantcards.huygens.knaw.nl/cards/01/</td>\n",
       "    </tr>\n",
       "  </tbody>\n",
       "</table>\n",
       "</div>"
      ],
      "text/plain": [
       "                          file   edges  \\\n",
       "0  NL-HaNA_2.05.159_1_0191.jpg  1152.0   \n",
       "1  NL-HaNA_2.05.159_1_1329.jpg  1276.0   \n",
       "2  NL-HaNA_2.05.159_1_0181.jpg   784.0   \n",
       "3  NL-HaNA_2.05.159_1_2221.jpg  2453.0   \n",
       "4  NL-HaNA_2.05.159_1_1912.jpg  1277.0   \n",
       "\n",
       "                                              url  \n",
       "0  https://migrantcards.huygens.knaw.nl/cards/01/  \n",
       "1  https://migrantcards.huygens.knaw.nl/cards/01/  \n",
       "2  https://migrantcards.huygens.knaw.nl/cards/01/  \n",
       "3  https://migrantcards.huygens.knaw.nl/cards/01/  \n",
       "4  https://migrantcards.huygens.knaw.nl/cards/01/  "
      ]
     },
     "execution_count": 119,
     "metadata": {},
     "output_type": "execute_result"
    }
   ],
   "source": [
    "df = pd.read_csv('/Users/rikhoekstra/surfdrive/emigratie/alledges.csv')\n",
    "#give it a url for later use. This might be possible in one line, but I'll settle for two\n",
    "df['url'] = df.file.str.split('_').str.get(-2)\n",
    "df['url'] = df.url.apply(lambda x: \"https://migrantcards.huygens.knaw.nl/cards/%(number)02d/\" % {\"number\":int(x)})\n",
    "df.head()"
   ]
  },
  {
   "cell_type": "code",
   "execution_count": 120,
   "metadata": {},
   "outputs": [
    {
     "data": {
      "text/html": [
       "<div>\n",
       "<style scoped>\n",
       "    .dataframe tbody tr th:only-of-type {\n",
       "        vertical-align: middle;\n",
       "    }\n",
       "\n",
       "    .dataframe tbody tr th {\n",
       "        vertical-align: top;\n",
       "    }\n",
       "\n",
       "    .dataframe thead th {\n",
       "        text-align: right;\n",
       "    }\n",
       "</style>\n",
       "<table border=\"1\" class=\"dataframe\">\n",
       "  <thead>\n",
       "    <tr style=\"text-align: right;\">\n",
       "      <th></th>\n",
       "      <th>file</th>\n",
       "      <th>edges</th>\n",
       "      <th>url</th>\n",
       "    </tr>\n",
       "  </thead>\n",
       "  <tbody>\n",
       "    <tr>\n",
       "      <th>65526</th>\n",
       "      <td>NL-HaNA_2.05.159_31_032</td>\n",
       "      <td>NaN</td>\n",
       "      <td>https://migrantcards.huygens.knaw.nl/cards/31/</td>\n",
       "    </tr>\n",
       "    <tr>\n",
       "      <th>91270</th>\n",
       "      <td>NL-HaNA_2.05.159_42_0438.j</td>\n",
       "      <td>NaN</td>\n",
       "      <td>https://migrantcards.huygens.knaw.nl/cards/42/</td>\n",
       "    </tr>\n",
       "  </tbody>\n",
       "</table>\n",
       "</div>"
      ],
      "text/plain": [
       "                             file  edges  \\\n",
       "65526     NL-HaNA_2.05.159_31_032    NaN   \n",
       "91270  NL-HaNA_2.05.159_42_0438.j    NaN   \n",
       "\n",
       "                                                  url  \n",
       "65526  https://migrantcards.huygens.knaw.nl/cards/31/  \n",
       "91270  https://migrantcards.huygens.knaw.nl/cards/42/  "
      ]
     },
     "execution_count": 120,
     "metadata": {},
     "output_type": "execute_result"
    }
   ],
   "source": [
    "df.loc[df.edges.isnull()]"
   ]
  },
  {
   "cell_type": "code",
   "execution_count": 121,
   "metadata": {},
   "outputs": [],
   "source": [
    "x = df.file.str.rpartition('_')\n",
    "x = x[2].str.split('.', expand=True)\n",
    "\n"
   ]
  },
  {
   "cell_type": "code",
   "execution_count": 122,
   "metadata": {},
   "outputs": [
    {
     "data": {
      "text/html": [
       "<div>\n",
       "<style scoped>\n",
       "    .dataframe tbody tr th:only-of-type {\n",
       "        vertical-align: middle;\n",
       "    }\n",
       "\n",
       "    .dataframe tbody tr th {\n",
       "        vertical-align: top;\n",
       "    }\n",
       "\n",
       "    .dataframe thead th {\n",
       "        text-align: right;\n",
       "    }\n",
       "</style>\n",
       "<table border=\"1\" class=\"dataframe\">\n",
       "  <thead>\n",
       "    <tr style=\"text-align: right;\">\n",
       "      <th></th>\n",
       "      <th>file</th>\n",
       "      <th>edges</th>\n",
       "      <th>url</th>\n",
       "    </tr>\n",
       "  </thead>\n",
       "  <tbody>\n",
       "    <tr>\n",
       "      <th>0</th>\n",
       "      <td>NL-HaNA_2.05.159_1_0191.jpg</td>\n",
       "      <td>1152.0</td>\n",
       "      <td>https://migrantcards.huygens.knaw.nl/cards/01/</td>\n",
       "    </tr>\n",
       "    <tr>\n",
       "      <th>1</th>\n",
       "      <td>NL-HaNA_2.05.159_1_1329.jpg</td>\n",
       "      <td>1276.0</td>\n",
       "      <td>https://migrantcards.huygens.knaw.nl/cards/01/</td>\n",
       "    </tr>\n",
       "    <tr>\n",
       "      <th>2</th>\n",
       "      <td>NL-HaNA_2.05.159_1_0181.jpg</td>\n",
       "      <td>784.0</td>\n",
       "      <td>https://migrantcards.huygens.knaw.nl/cards/01/</td>\n",
       "    </tr>\n",
       "    <tr>\n",
       "      <th>3</th>\n",
       "      <td>NL-HaNA_2.05.159_1_2221.jpg</td>\n",
       "      <td>2453.0</td>\n",
       "      <td>https://migrantcards.huygens.knaw.nl/cards/01/</td>\n",
       "    </tr>\n",
       "    <tr>\n",
       "      <th>6</th>\n",
       "      <td>NL-HaNA_2.05.159_1_1399.jpg</td>\n",
       "      <td>1089.0</td>\n",
       "      <td>https://migrantcards.huygens.knaw.nl/cards/01/</td>\n",
       "    </tr>\n",
       "    <tr>\n",
       "      <th>8</th>\n",
       "      <td>NL-HaNA_2.05.159_1_0399.jpg</td>\n",
       "      <td>1056.0</td>\n",
       "      <td>https://migrantcards.huygens.knaw.nl/cards/01/</td>\n",
       "    </tr>\n",
       "    <tr>\n",
       "      <th>15</th>\n",
       "      <td>NL-HaNA_2.05.159_1_0283.jpg</td>\n",
       "      <td>1728.0</td>\n",
       "      <td>https://migrantcards.huygens.knaw.nl/cards/01/</td>\n",
       "    </tr>\n",
       "    <tr>\n",
       "      <th>16</th>\n",
       "      <td>NL-HaNA_2.05.159_1_0723.jpg</td>\n",
       "      <td>347.0</td>\n",
       "      <td>https://migrantcards.huygens.knaw.nl/cards/01/</td>\n",
       "    </tr>\n",
       "    <tr>\n",
       "      <th>18</th>\n",
       "      <td>NL-HaNA_2.05.159_1_1739.jpg</td>\n",
       "      <td>1080.0</td>\n",
       "      <td>https://migrantcards.huygens.knaw.nl/cards/01/</td>\n",
       "    </tr>\n",
       "    <tr>\n",
       "      <th>19</th>\n",
       "      <td>NL-HaNA_2.05.159_1_0389.jpg</td>\n",
       "      <td>1473.0</td>\n",
       "      <td>https://migrantcards.huygens.knaw.nl/cards/01/</td>\n",
       "    </tr>\n",
       "  </tbody>\n",
       "</table>\n",
       "</div>"
      ],
      "text/plain": [
       "                           file   edges  \\\n",
       "0   NL-HaNA_2.05.159_1_0191.jpg  1152.0   \n",
       "1   NL-HaNA_2.05.159_1_1329.jpg  1276.0   \n",
       "2   NL-HaNA_2.05.159_1_0181.jpg   784.0   \n",
       "3   NL-HaNA_2.05.159_1_2221.jpg  2453.0   \n",
       "6   NL-HaNA_2.05.159_1_1399.jpg  1089.0   \n",
       "8   NL-HaNA_2.05.159_1_0399.jpg  1056.0   \n",
       "15  NL-HaNA_2.05.159_1_0283.jpg  1728.0   \n",
       "16  NL-HaNA_2.05.159_1_0723.jpg   347.0   \n",
       "18  NL-HaNA_2.05.159_1_1739.jpg  1080.0   \n",
       "19  NL-HaNA_2.05.159_1_0389.jpg  1473.0   \n",
       "\n",
       "                                               url  \n",
       "0   https://migrantcards.huygens.knaw.nl/cards/01/  \n",
       "1   https://migrantcards.huygens.knaw.nl/cards/01/  \n",
       "2   https://migrantcards.huygens.knaw.nl/cards/01/  \n",
       "3   https://migrantcards.huygens.knaw.nl/cards/01/  \n",
       "6   https://migrantcards.huygens.knaw.nl/cards/01/  \n",
       "8   https://migrantcards.huygens.knaw.nl/cards/01/  \n",
       "15  https://migrantcards.huygens.knaw.nl/cards/01/  \n",
       "16  https://migrantcards.huygens.knaw.nl/cards/01/  \n",
       "18  https://migrantcards.huygens.knaw.nl/cards/01/  \n",
       "19  https://migrantcards.huygens.knaw.nl/cards/01/  "
      ]
     },
     "execution_count": 122,
     "metadata": {},
     "output_type": "execute_result"
    }
   ],
   "source": [
    "# split to even and odd, as odd imagenrs are the front of the cards and even nrs the back\n",
    "# and it is very likely these have different characteristics\n",
    "# we will not rely on pandas index nrs but use the image\n",
    "\n",
    "even_edges = df.iloc[x.loc[x[0].astype('int64') % 2 ==0 ].index].copy()\n",
    "odd_edges = df.iloc[x.loc[x[0].astype('int64') % 2 !=0 ].index].copy()\n",
    "odd_edges.head(10)\n",
    "\n",
    "# we make them separate dataframes for further processing\n",
    "\n",
    "\n"
   ]
  },
  {
   "cell_type": "code",
   "execution_count": 123,
   "metadata": {},
   "outputs": [
    {
     "data": {
      "text/plain": [
       "<matplotlib.axes._subplots.AxesSubplot at 0x117565f98>"
      ]
     },
     "execution_count": 123,
     "metadata": {},
     "output_type": "execute_result"
    },
    {
     "data": {
      "image/png": "[encoded data removed]",
      "text/plain": [
       "<matplotlib.figure.Figure at 0x106117b70>"
      ]
     },
     "metadata": {
      "needs_background": "light"
     },
     "output_type": "display_data"
    }
   ],
   "source": [
    "#the histogram code inspired by https://stackoverflow.com/questions/38451407/numpy-pandas-return-histogram-values-from-pandas-histogram-plot\n",
    "\n",
    "fig = plt.figure(figsize=(25, 8))\n",
    "ax1 = fig.add_subplot(121)\n",
    "ax1.set_title(\"distribution of information density card fronts\")\n",
    "ax1.set_xlabel('density')\n",
    "ax1.set_ylabel('nr of cards')\n",
    "odd_edges.edges.hist(bins=40,ax=ax1)\n",
    "\n",
    "ax2 = fig.add_subplot(122)\n",
    "ax2.set_title(\"distribution of information density card backs\")\n",
    "ax2.set_xlabel('density')\n",
    "#ax2.set_xscale('symlog')\n",
    "#ax2.set_yscale('symlog')\n",
    "ax2.set_ylabel('nr of cards')\n",
    "even_edges.edges.hist(bins=40, ax=ax2)"
   ]
  },
  {
   "cell_type": "markdown",
   "metadata": {},
   "source": [
    "There is (indeed) a marked difference between the information distribution of the front and the back of the cards. Let's see if we can determine the distribution"
   ]
  },
  {
   "cell_type": "code",
   "execution_count": 124,
   "metadata": {},
   "outputs": [
    {
     "data": {
      "text/plain": [
       "<matplotlib.axes._subplots.AxesSubplot at 0x118354d68>"
      ]
     },
     "execution_count": 124,
     "metadata": {},
     "output_type": "execute_result"
    },
    {
     "data": {
      "image/png": "[encoded data removed]",
      "text/plain": [
       "<matplotlib.figure.Figure at 0x118508550>"
      ]
     },
     "metadata": {
      "needs_background": "light"
     },
     "output_type": "display_data"
    }
   ],
   "source": [
    "d_e = even_edges.edges.value_counts()\n",
    "d_o = odd_edges.edges.value_counts()\n",
    "fig = plt.figure(figsize=(25, 8))\n",
    "ax1 = fig.add_subplot(121)\n",
    "sns.distplot(d_o, ax=ax1)\n",
    "ax2 = fig.add_subplot(122)\n",
    "sns.distplot(d_e, ax=ax2)"
   ]
  },
  {
   "cell_type": "code",
   "execution_count": 125,
   "metadata": {},
   "outputs": [
    {
     "data": {
      "text/plain": [
       "(-14.866, 743.3]      33546\n",
       "(743.3, 1486.6]        9471\n",
       "(1486.6, 2229.9]       4421\n",
       "(2229.9, 2973.2]       2276\n",
       "(2973.2, 3716.5]       1495\n",
       "(3716.5, 4459.8]        933\n",
       "(4459.8, 5203.1]        561\n",
       "(5203.1, 5946.4]        345\n",
       "(5946.4, 6689.7]        191\n",
       "(6689.7, 7433.0]        101\n",
       "(7433.0, 8176.3]         69\n",
       "(8176.3, 8919.6]         33\n",
       "(8919.6, 9662.9]         30\n",
       "(9662.9, 10406.2]        14\n",
       "(11149.5, 11892.8]       13\n",
       "(10406.2, 11149.5]        8\n",
       "(11892.8, 12636.1]        4\n",
       "(12636.1, 13379.4]        3\n",
       "(14122.7, 14866.0]        2\n",
       "(13379.4, 14122.7]        1\n",
       "Name: edges, dtype: int64"
      ]
     },
     "execution_count": 125,
     "metadata": {},
     "output_type": "execute_result"
    }
   ],
   "source": [
    "# determine categories using bins\n",
    "# for card backs\n",
    "pd.cut(even_edges.edges, 20).value_counts() # lets see what dividing into 20 bins gives us "
   ]
  },
  {
   "cell_type": "code",
   "execution_count": 127,
   "metadata": {},
   "outputs": [
    {
     "data": {
      "text/plain": [
       "(884.467, 1326.7]         17523\n",
       "(1326.7, 1768.933]        12950\n",
       "(442.233, 884.467]         9526\n",
       "(1768.933, 2211.167]       6098\n",
       "(2211.167, 2653.4]         2630\n",
       "(-13.267, 442.233]         2043\n",
       "(2653.4, 3095.633]         1228\n",
       "(3095.633, 3537.867]        655\n",
       "(3537.867, 3980.1]          340\n",
       "(3980.1, 4422.333]          174\n",
       "(4422.333, 4864.567]        134\n",
       "(4864.567, 5306.8]           68\n",
       "(5306.8, 5749.033]           39\n",
       "(5749.033, 6191.267]         27\n",
       "(6191.267, 6633.5]           21\n",
       "(6633.5, 7075.733]           15\n",
       "(7075.733, 7517.967]          8\n",
       "(7517.967, 7960.2]            5\n",
       "(7960.2, 8402.433]            4\n",
       "(9286.9, 9729.133]            4\n",
       "(9729.133, 10171.367]         4\n",
       "(10171.367, 10613.6]          2\n",
       "(11055.833, 11498.067]        2\n",
       "(11498.067, 11940.3]          2\n",
       "(8402.433, 8844.667]          1\n",
       "(8844.667, 9286.9]            1\n",
       "(11940.3, 12382.533]          1\n",
       "(12824.767, 13267.0]          1\n",
       "(12382.533, 12824.767]        0\n",
       "(10613.6, 11055.833]          0\n",
       "Name: edges, dtype: int64"
      ]
     },
     "execution_count": 127,
     "metadata": {},
     "output_type": "execute_result"
    }
   ],
   "source": [
    "# determine categories using bins\n",
    "# and for card fronts\n",
    "pd.cut(odd_edges.edges, 30).value_counts()"
   ]
  },
  {
   "cell_type": "code",
   "execution_count": 188,
   "metadata": {},
   "outputs": [],
   "source": [
    "# define cut ups here, so that we can change them centrally\n",
    "# this seems to be a reasonable cut up. \n",
    "# After visual inspection I changed the emplty to a lower value but more adjusting may be done\n",
    "# change cut values here!\n",
    "odd_cuts = [0, 200, 800, 1200, 1600, 2000, even_edges.edges.max()]\n",
    "even_cuts = [0, 200, 400, 800, 1600, 2500, even_edges.edges.max()]\n",
    "labelled = ['empty','small', 'medium-sm','medium-l','large','dense']"
   ]
  },
  {
   "cell_type": "code",
   "execution_count": 189,
   "metadata": {},
   "outputs": [
    {
     "data": {
      "text/plain": [
       "empty          518\n",
       "small         8238\n",
       "medium-sm    15182\n",
       "medium-l     14204\n",
       "large         7647\n",
       "dense         7710\n",
       "Name: edges, dtype: int64"
      ]
     },
     "execution_count": 189,
     "metadata": {},
     "output_type": "execute_result"
    }
   ],
   "source": [
    "fronts = pd.cut(odd_edges.edges, odd_cuts, labels=labelled).value_counts()\n",
    "fronts.sort_index(inplace=True)\n",
    "fronts"
   ]
  },
  {
   "cell_type": "code",
   "execution_count": 190,
   "metadata": {},
   "outputs": [
    {
     "data": {
      "text/plain": [
       "empty        18365\n",
       "medium-sm     9670\n",
       "medium-l      9308\n",
       "small         6570\n",
       "dense         5087\n",
       "large         4507\n",
       "Name: edges, dtype: int64"
      ]
     },
     "execution_count": 190,
     "metadata": {},
     "output_type": "execute_result"
    }
   ],
   "source": [
    "\n",
    "backs = pd.cut(even_edges.edges, even_cuts, labels=labelled).value_counts()\n",
    "backs\n"
   ]
  },
  {
   "cell_type": "code",
   "execution_count": 191,
   "metadata": {},
   "outputs": [
    {
     "data": {
      "text/plain": [
       "<matplotlib.axes._subplots.AxesSubplot at 0x129aa2940>"
      ]
     },
     "execution_count": 191,
     "metadata": {},
     "output_type": "execute_result"
    },
    {
     "data": {
      "image/png": "[encoded data removed]",
      "text/plain": [
       "<matplotlib.figure.Figure at 0x127a18f98>"
      ]
     },
     "metadata": {
      "needs_background": "light"
     },
     "output_type": "display_data"
    }
   ],
   "source": [
    "d_e = even_edges.edges.value_counts()\n",
    "d_o = odd_edges.edges.value_counts()\n",
    "fig = plt.figure(figsize=(25, 8))\n",
    "fig.suptitle(\"comparison of density of even and odd sides of cards\", fontsize=\"24\")\n",
    "ax1 = fig.add_subplot(121)\n",
    "ax1.set_title(\"card fronts\", fontsize=\"16\")\n",
    "fronts.sort_index().plot.bar(color='maroon', ax=ax1)\n",
    "ax2 = fig.add_subplot(122)\n",
    "ax2.set_title(\"card backs\", fontsize=\"16\")\n",
    "backs.sort_index().plot.bar(color='navy', ax=ax2)\n",
    "\n",
    "#except for some more formatting and getting rid of the fancy colors"
   ]
  },
  {
   "cell_type": "markdown",
   "metadata": {},
   "source": [
    "## Analysis \n",
    "\n",
    "This seems a reasonable division of the images between (from small to large 'bin'):\n",
    "\n",
    "* empty\n",
    "* sparse \n",
    "* medium \n",
    "* full\n",
    "* dense\n",
    "\n",
    "But does this actually respond to reasonable comparable cards. We have to check this by inspecting sample cards, but will do that in separate files. (For publication services we will have to blur the cards, but not in this stage of the research). This also provides a form of visual feedback for researchers, allowing for forms of scalable reading"
   ]
  },
  {
   "cell_type": "code",
   "execution_count": 192,
   "metadata": {},
   "outputs": [
    {
     "data": {
      "text/html": [
       "<div>\n",
       "<style scoped>\n",
       "    .dataframe tbody tr th:only-of-type {\n",
       "        vertical-align: middle;\n",
       "    }\n",
       "\n",
       "    .dataframe tbody tr th {\n",
       "        vertical-align: top;\n",
       "    }\n",
       "\n",
       "    .dataframe thead th {\n",
       "        text-align: right;\n",
       "    }\n",
       "</style>\n",
       "<table border=\"1\" class=\"dataframe\">\n",
       "  <thead>\n",
       "    <tr style=\"text-align: right;\">\n",
       "      <th></th>\n",
       "      <th>file</th>\n",
       "      <th>edges</th>\n",
       "      <th>url</th>\n",
       "      <th>density</th>\n",
       "    </tr>\n",
       "  </thead>\n",
       "  <tbody>\n",
       "    <tr>\n",
       "      <th>0</th>\n",
       "      <td>NL-HaNA_2.05.159_1_0191.jpg</td>\n",
       "      <td>1152.0</td>\n",
       "      <td>https://migrantcards.huygens.knaw.nl/cards/01/</td>\n",
       "      <td>medium</td>\n",
       "    </tr>\n",
       "    <tr>\n",
       "      <th>1</th>\n",
       "      <td>NL-HaNA_2.05.159_1_1329.jpg</td>\n",
       "      <td>1276.0</td>\n",
       "      <td>https://migrantcards.huygens.knaw.nl/cards/01/</td>\n",
       "      <td>medium</td>\n",
       "    </tr>\n",
       "    <tr>\n",
       "      <th>2</th>\n",
       "      <td>NL-HaNA_2.05.159_1_0181.jpg</td>\n",
       "      <td>784.0</td>\n",
       "      <td>https://migrantcards.huygens.knaw.nl/cards/01/</td>\n",
       "      <td>small</td>\n",
       "    </tr>\n",
       "    <tr>\n",
       "      <th>3</th>\n",
       "      <td>NL-HaNA_2.05.159_1_2221.jpg</td>\n",
       "      <td>2453.0</td>\n",
       "      <td>https://migrantcards.huygens.knaw.nl/cards/01/</td>\n",
       "      <td>large</td>\n",
       "    </tr>\n",
       "    <tr>\n",
       "      <th>6</th>\n",
       "      <td>NL-HaNA_2.05.159_1_1399.jpg</td>\n",
       "      <td>1089.0</td>\n",
       "      <td>https://migrantcards.huygens.knaw.nl/cards/01/</td>\n",
       "      <td>medium</td>\n",
       "    </tr>\n",
       "  </tbody>\n",
       "</table>\n",
       "</div>"
      ],
      "text/plain": [
       "                          file   edges  \\\n",
       "0  NL-HaNA_2.05.159_1_0191.jpg  1152.0   \n",
       "1  NL-HaNA_2.05.159_1_1329.jpg  1276.0   \n",
       "2  NL-HaNA_2.05.159_1_0181.jpg   784.0   \n",
       "3  NL-HaNA_2.05.159_1_2221.jpg  2453.0   \n",
       "6  NL-HaNA_2.05.159_1_1399.jpg  1089.0   \n",
       "\n",
       "                                              url density  \n",
       "0  https://migrantcards.huygens.knaw.nl/cards/01/  medium  \n",
       "1  https://migrantcards.huygens.knaw.nl/cards/01/  medium  \n",
       "2  https://migrantcards.huygens.knaw.nl/cards/01/   small  \n",
       "3  https://migrantcards.huygens.knaw.nl/cards/01/   large  \n",
       "6  https://migrantcards.huygens.knaw.nl/cards/01/  medium  "
      ]
     },
     "execution_count": 192,
     "metadata": {},
     "output_type": "execute_result"
    }
   ],
   "source": [
    "\n",
    "odd_edges['density'] = pd.cut(odd_edges.edges, [0, 300, 1000, 1500, 4000, even_edges.edges.max()], \n",
    "                              labels=['empty','small', 'medium','large','dense'])\n",
    "odd_edges.head()\n",
    "#ronts.sample(n=30, axis=index[0])\n"
   ]
  },
  {
   "cell_type": "code",
   "execution_count": 193,
   "metadata": {},
   "outputs": [
    {
     "data": {
      "text/html": [
       "<div>\n",
       "<style scoped>\n",
       "    .dataframe tbody tr th:only-of-type {\n",
       "        vertical-align: middle;\n",
       "    }\n",
       "\n",
       "    .dataframe tbody tr th {\n",
       "        vertical-align: top;\n",
       "    }\n",
       "\n",
       "    .dataframe thead th {\n",
       "        text-align: right;\n",
       "    }\n",
       "</style>\n",
       "<table border=\"1\" class=\"dataframe\">\n",
       "  <thead>\n",
       "    <tr style=\"text-align: right;\">\n",
       "      <th></th>\n",
       "      <th>file</th>\n",
       "      <th>edges</th>\n",
       "      <th>url</th>\n",
       "      <th>density</th>\n",
       "    </tr>\n",
       "  </thead>\n",
       "  <tbody>\n",
       "    <tr>\n",
       "      <th>4</th>\n",
       "      <td>NL-HaNA_2.05.159_1_1912.jpg</td>\n",
       "      <td>1277.0</td>\n",
       "      <td>https://migrantcards.huygens.knaw.nl/cards/01/</td>\n",
       "      <td>small</td>\n",
       "    </tr>\n",
       "    <tr>\n",
       "      <th>5</th>\n",
       "      <td>NL-HaNA_2.05.159_1_1184.jpg</td>\n",
       "      <td>815.0</td>\n",
       "      <td>https://migrantcards.huygens.knaw.nl/cards/01/</td>\n",
       "      <td>small</td>\n",
       "    </tr>\n",
       "    <tr>\n",
       "      <th>7</th>\n",
       "      <td>NL-HaNA_2.05.159_1_1470.jpg</td>\n",
       "      <td>8.0</td>\n",
       "      <td>https://migrantcards.huygens.knaw.nl/cards/01/</td>\n",
       "      <td>empty</td>\n",
       "    </tr>\n",
       "    <tr>\n",
       "      <th>9</th>\n",
       "      <td>NL-HaNA_2.05.159_1_1966.jpg</td>\n",
       "      <td>335.0</td>\n",
       "      <td>https://migrantcards.huygens.knaw.nl/cards/01/</td>\n",
       "      <td>empty</td>\n",
       "    </tr>\n",
       "    <tr>\n",
       "      <th>10</th>\n",
       "      <td>NL-HaNA_2.05.159_1_0344.jpg</td>\n",
       "      <td>1109.0</td>\n",
       "      <td>https://migrantcards.huygens.knaw.nl/cards/01/</td>\n",
       "      <td>small</td>\n",
       "    </tr>\n",
       "  </tbody>\n",
       "</table>\n",
       "</div>"
      ],
      "text/plain": [
       "                           file   edges  \\\n",
       "4   NL-HaNA_2.05.159_1_1912.jpg  1277.0   \n",
       "5   NL-HaNA_2.05.159_1_1184.jpg   815.0   \n",
       "7   NL-HaNA_2.05.159_1_1470.jpg     8.0   \n",
       "9   NL-HaNA_2.05.159_1_1966.jpg   335.0   \n",
       "10  NL-HaNA_2.05.159_1_0344.jpg  1109.0   \n",
       "\n",
       "                                               url density  \n",
       "4   https://migrantcards.huygens.knaw.nl/cards/01/   small  \n",
       "5   https://migrantcards.huygens.knaw.nl/cards/01/   small  \n",
       "7   https://migrantcards.huygens.knaw.nl/cards/01/   empty  \n",
       "9   https://migrantcards.huygens.knaw.nl/cards/01/   empty  \n",
       "10  https://migrantcards.huygens.knaw.nl/cards/01/   small  "
      ]
     },
     "execution_count": 193,
     "metadata": {},
     "output_type": "execute_result"
    }
   ],
   "source": [
    "even_edges['density'] = pd.cut(even_edges.edges, [0, 400, 1500, 3000, 4500, even_edges.edges.max()],\n",
    "                               labels=['empty','small', 'medium','large','dense'])\n",
    "# and we'll give the set a url as well\n",
    "even_edges.head()"
   ]
  },
  {
   "cell_type": "code",
   "execution_count": 194,
   "metadata": {},
   "outputs": [],
   "source": [
    "# and make samples for inspection\n",
    "import pathlib\n",
    " \n",
    "    \n",
    "flin = open('contactsheet_template.html')\n",
    "HTMLtemplate = flin.read()\n",
    "flin.close()\n",
    "\n",
    "htmloutdir = './htmlout/'\n",
    "def samples_out(outdir, dataframe, htmloutdir=htmloutdir):\n",
    "    outdr = os.path.join(htmloutdir, outdir)\n",
    "    pathlib.Path(outdr).mkdir(parents=True, exist_ok=True)\n",
    "    df = globals()[dataframe]\n",
    "    for item in ['empty','small', 'medium','large','dense']:\n",
    "        temp = df.loc[df.density == item]\n",
    "        csv_sample = temp.sample(100)\n",
    "        outflname = os.path.join(outdr, item)\n",
    "        csv_sample.to_csv(outflname + '.csv')\n",
    "        htmlout = open(outflname + '.html', 'w')\n",
    "        htmlout.write(HTMLtemplate % (item + '.csv',))\n",
    "        htmlout.close()\n",
    "\n",
    "for i in ['even','odd']:\n",
    "    samples_out(i, '%s_edges' % i)\n",
    "    "
   ]
  },
  {
   "cell_type": "markdown",
   "metadata": {},
   "source": [
    "## Analysis\n",
    "\n",
    "In the generate files, there is an overview of samples (100 images randomly sampled per density type, fronts ('odd') and back ('even')) from the different densities. This is __not__ acomplete overview, but a visual aid for making a resonable typology of cards.\n",
    "\n",
    "It is a first attempt to get insight if we can associate densities with 'typical' cards. This needs a lot more tweeking. Perhaps we should also consider cutting up the cards into regions, as there is different types of information on the different regions of the cards, mainly on the front of the cards. And the different models offer some template for this that we explore. \n",
    "\n",
    "\n",
    "But now we first try and apply this to the sample to see if this can bring some more refinements. In another notebook.\n"
   ]
  },
  {
   "cell_type": "code",
   "execution_count": 195,
   "metadata": {},
   "outputs": [],
   "source": [
    "odd_edges.to_csv(\"csvs/odd_edges.csv\")\n",
    "even_edges.to_csv(\"csvs/even_edges.csv\")"
   ]
  },
  {
   "cell_type": "code",
   "execution_count": null,
   "metadata": {},
   "outputs": [],
   "source": []
  }
 ],
 "metadata": {
  "kernelspec": {
   "display_name": "Python 3",
   "language": "python",
   "name": "python3"
  },
  "language_info": {
   "codemirror_mode": {
    "name": "ipython",
    "version": 3
   },
   "file_extension": ".py",
   "mimetype": "text/x-python",
   "name": "python",
   "nbconvert_exporter": "python",
   "pygments_lexer": "ipython3",
   "version": "3.5.1"
  }
 },
 "nbformat": 4,
 "nbformat_minor": 2
}
