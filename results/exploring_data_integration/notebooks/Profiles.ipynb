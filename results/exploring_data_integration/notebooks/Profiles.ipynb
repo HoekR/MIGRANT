{
 "cells": [
  {
   "cell_type": "markdown",
   "metadata": {
    "toc": true
   },
   "source": [
    "<h1>Table of Contents<span class=\"tocSkip\"></span></h1>\n",
    "<div class=\"toc\"><ul class=\"toc-item\"><li><span><a href=\"#Profiles\" data-toc-modified-id=\"Profiles-1\">Profiles</a></span><ul class=\"toc-item\"><li><span><a href=\"#Aim\" data-toc-modified-id=\"Aim-1.1\">Aim</a></span></li><li><span><a href=\"#Collection-description\" data-toc-modified-id=\"Collection-description-1.2\">Collection description</a></span><ul class=\"toc-item\"><li><span><a href=\"#Assessment\" data-toc-modified-id=\"Assessment-1.2.1\">Assessment</a></span><ul class=\"toc-item\"><li><span><a href=\"#Approaches\" data-toc-modified-id=\"Approaches-1.2.1.1\">Approaches</a></span></li></ul></li></ul></li><li><span><a href=\"#Sample\" data-toc-modified-id=\"Sample-1.3\">Sample</a></span></li><li><span><a href=\"#Computer-vision-techniques\" data-toc-modified-id=\"Computer-vision-techniques-1.4\">Computer vision techniques</a></span><ul class=\"toc-item\"><li><span><a href=\"#method\" data-toc-modified-id=\"method-1.4.1\">method</a></span></li></ul></li><li><span><a href=\"#Further-explorations---towards-profiles\" data-toc-modified-id=\"Further-explorations---towards-profiles-1.5\">Further explorations - towards profiles</a></span></li><li><span><a href=\"#Steps-and-notebooks\" data-toc-modified-id=\"Steps-and-notebooks-1.6\">Steps and notebooks</a></span></li><li><span><a href=\"#Step-one---exploration-of-the-images\" data-toc-modified-id=\"Step-one---exploration-of-the-images-1.7\">Step one - exploration of the images</a></span><ul class=\"toc-item\"><li><span><a href=\"#First-step\" data-toc-modified-id=\"First-step-1.7.1\">First step</a></span></li><li><span><a href=\"#Overview---distribution-over-time\" data-toc-modified-id=\"Overview---distribution-over-time-1.7.2\">Overview - distribution over time</a></span></li><li><span><a href=\"#Step-two:-comparison-of-the-sample\" data-toc-modified-id=\"Step-two:-comparison-of-the-sample-1.7.3\">Step two: comparison of the sample</a></span></li><li><span><a href=\"#Step-3:-influence-of-migrant-properties\" data-toc-modified-id=\"Step-3:-influence-of-migrant-properties-1.7.4\">Step 3: influence of migrant properties</a></span><ul class=\"toc-item\"><li><span><a href=\"#migration-schemes\" data-toc-modified-id=\"migration-schemes-1.7.4.1\">migration schemes</a></span></li><li><span><a href=\"#religion\" data-toc-modified-id=\"religion-1.7.4.2\">religion</a></span></li><li><span><a href=\"#unit-composition\" data-toc-modified-id=\"unit-composition-1.7.4.3\">unit composition</a></span></li><li><span><a href=\"#unit-size\" data-toc-modified-id=\"unit-size-1.7.4.4\">unit size</a></span></li><li><span><a href=\"#Step-4\" data-toc-modified-id=\"Step-4-1.7.4.5\">Step 4</a></span></li><li><span><a href=\"#Step-5\" data-toc-modified-id=\"Step-5-1.7.4.6\">Step 5</a></span></li><li><span><a href=\"#scores\" data-toc-modified-id=\"scores-1.7.4.7\">scores</a></span></li><li><span><a href=\"#combining-scores-and-features\" data-toc-modified-id=\"combining-scores-and-features-1.7.4.8\">combining scores and features</a></span></li><li><span><a href=\"#religion\" data-toc-modified-id=\"religion-1.7.4.9\">religion</a></span></li><li><span><a href=\"#unit-type\" data-toc-modified-id=\"unit-type-1.7.4.10\">unit type</a></span></li><li><span><a href=\"#Analysis:-distributions\" data-toc-modified-id=\"Analysis:-distributions-1.7.4.11\">Analysis: distributions</a></span></li></ul></li><li><span><a href=\"#Age-groups\" data-toc-modified-id=\"Age-groups-1.7.5\">Age groups</a></span></li><li><span><a href=\"#Combining-categories\" data-toc-modified-id=\"Combining-categories-1.7.6\">Combining categories</a></span><ul class=\"toc-item\"><li><span><a href=\"#Religion\" data-toc-modified-id=\"Religion-1.7.6.1\">Religion</a></span></li><li><span><a href=\"#Family-size-and-religion\" data-toc-modified-id=\"Family-size-and-religion-1.7.6.2\">Family size and religion</a></span></li></ul></li></ul></li></ul></li></ul></div>"
   ]
  },
  {
   "cell_type": "markdown",
   "metadata": {},
   "source": [
    "# Profiles"
   ]
  },
  {
   "cell_type": "markdown",
   "metadata": {},
   "source": [
    "## Aim\n",
    "\n",
    "This notebook is intended to sum up the previous notebook in this series. The aim was to see whether it is possible to analyze a whole archive collection consisting of system cards with information by an institution, combining classic sampling techniques with computer vision.\n",
    "\n",
    "The idea was to make profiles:\n",
    "\n",
    "- profiles of types of cards that give an idea what to expect on the cards\n",
    "- profiles of groups of migrants and the cards they contain\n",
    "\n",
    "For this, we systematically describe what we know of the archive and the cards, starting with a description of the collection, of the cards and of the sample we took and then going on to the different analyses we performed using the sample, computer vision and a combination.\n",
    "\n",
    "## Collection description \n",
    "\n",
    "\n",
    "The archive consisted of fifty-one drawers with system cards from the Dutch consulates in Australia with information about the Dutch emigrants that migrated to that continent after WWII until 1992, when active Dutch migration policy stopped and the registration system with it. Each of the drawers contained some 1000 cards, adding up to 51,525 all together. \n",
    "In the early 2000s the cards were shipped to the Netherlands and transferred to the National Archives in The Hague, where they now are accessible under inventory number (NL-HaNA) NT00335. \n",
    "\n",
    "At the time of transferral a simple database was compiled with some basic data on the migrant units on the cards, with a basic ordering of a sequel number that corresponded to the order in which the cards were processed.\n",
    "\n",
    "The cards were also scanned, but no relation between the card-image (2 per card, a front and a back) and the records was maintained. In effect, there are now 51,525 records and 103,050 images, organized by folders that (supposedly) correspond to the the original drawers and have designations like _\"Brisbane A-B\"_ or _\"Sydney-F-H\"_. According to the database, the consulates Brisbane, Melbourne and Sydney were represented. On basis of these first assessments, we have no way of telling whether this is all there ever was. It is also unclear whether there were once more extensive files on the migrants at the consulates. If there were, they have been destroyed at some time.\n",
    "\n",
    "### Assessment\n",
    "\n",
    "This ensemble is in itself a closed whole, of which the database gives only a very superficial access. It is also likely that the database contains errors, but they are difficult to assess without comparing them to the cards. The cards are difficult to process by conventional computerized methods like ocr, as they contain a mixture of type-written and handwritten text in a variety of hands. Moreover, texts are dispersed over the cards. On first inspection they contain some model that prescribed where to put the information, but this was maintained loosely and not consistently over the cards. \n",
    "<figure>\n",
    "  <img src=\"images/sample_cards_aarsse.png\" alt=\"sample card image\"/>\n",
    "  <figcaption><em>Sample card image</em></figcaption>\n",
    "</figure>\n",
    "\n",
    "A completely computerized analysis of the data-set was therefore impossible, but because of the amount of data, hand processing was also out of the question because of the sheer size. In this, this dataset is by no means unique. In most of the twentieth century, many, many card files were kept for administrative purposes by probably all governments in the world. And while an unknown portion of these physical databanks were later transferred to computer databases in one form or another, and many others were destroyed because they were obsolete, the archives still hold considerable numbers of these card files. They all share the problem that they usually are hard to process in a computerized way, and too large to grasp by manual methods. Apart from the intrinsic value of the Dutch-Australian migrant card-files, this makes exploring them also important from a methodological point of view.\n",
    "\n",
    "Moreover, these cards were only part of the story. While we had to assume that all of the original files the cards gave access had been destroyed, there were at least the immigrant files in the Australian archives of the Immigration Services, kept in the Australian archives. Because the cards have information about a very large proportion of all post-WWII Dutch migrants to Australia\n",
    "\n",
    "#### Approaches\n",
    "\n",
    "We decided to approach the migrant cards using a combination of manual and computerized methods, keeping in mind that using any computer assisted method was preferable even for minor tasks, because they could save time. Essentially, this was a two-person endeavour, with occasional help by volunteers and interns, unless we would be able to get a grant. The complexity of the tasks at hand and the unknown territory required a step-wise approach, some of which were devises at the onset and others we worked out along the way.\n",
    "\n",
    "## Sample \n",
    "\n",
    "The cards contain mixed data about migrants in mixed form. Some of the data are in typescript, while others contain additional information in handwriting, often very small. \n",
    "To get a better feel of what was on the card, Wouter Schalenkamp, intern at the project, took a one percent sample of the cards, consisting of each one-hundredst card. TODO: elaborate\n",
    "The sample did not bring to light any strange properties of the collection, as the cards appeared to be more or less evenly distributed over the different consulates. In this first analysis, there were no major differences between the consulates either. There is no administrative description of the collection that survives in the archives, so that we had to derive all information from it.\n",
    "\n",
    "## Computer vision techniques\n",
    "\n",
    "At the current situation of computer assisted analysis, it is impossible to do a complete conversion of the cards to text. The information is spread unevenly over them, it is neither running text nor tabled information. OCR on the typescript parts performs well, but information is scattered. Even if there are some cards that consist of fully typed text, they are exceptions and they are not useful for full-scale analysis.\n",
    "\n",
    "### method\n",
    "\n",
    "Computer vision makes it possible to determine what we have described as the _information density_ on the cards: by determining the density of typing and scribbled notes, it is possible to determine which cards contain a lot of information and which cards are empty. There are several ways to make the computer 'see' the writing on the cards, by distinguishing patterns of pixels. We tried several, but different methods did not yield significantly different results, so we adopted the measuring of the edges on the cards. This translates to a number, in which a higher number corresponds to a more information dense card. The computer is not able to distinguish all cards equally well. Cards with either colored backgrounds or colored or faint writing and typing was recognized less, resulting in wrong density numbers. As there is no obvious way to correct this, and some sampling made it clear that these were exceptions anyway, we decided to leave it at this.\n",
    "\n",
    "<figure>\n",
    "  <img src=\"images/edged_image.png\" alt=\"sample edged image\"/>\n",
    "   <figcaption><em>Sample edge image</em></figcaption>\n",
    "</figure>\n",
    "\n",
    "\n",
    "and an image with less detected edges:\n",
    "<figure>\n",
    "  <img src=\"images/imperfect_edged_im.png\" alt=\"sample imperfectly edged image\"/>\n",
    "   <figcaption><em>Sample imperfectly edge image</em></figcaption>\n",
    "</figure>\n",
    "\n",
    "\n",
    "\n",
    "\n",
    "\n"
   ]
  },
  {
   "cell_type": "markdown",
   "metadata": {},
   "source": [
    "## Further explorations - towards profiles\n",
    "\n",
    "The images and their densities, the basic database and the sample were the material we wanted to combine to explore the data further. The idea is that they can be combined and explored to see which are the important features of the migrant and _if_ and _how_ they translate to card densities. The assumption behind this is that important features also leave their traces in the distribution of information on the cards, but we have no clue whether this is also true or if there is another mechanism behind this. \n",
    "\n",
    "This is written afterwards, but before we start analysis it is a good idea to realize what these cards actually describe. It would seem that they describe the lives of the migrants, but actually they are the records of the interactions of the administrative apparatus of the Dutch-Australian consulates with the migrants that arrived at different times in Australia from 1945 to 1992. All sorts of policy decisions and adminstrative procedures and their changes could have left their traces in the archive, in addition and sometimes combined with the vicissitudes of the migrants and their interations with the consulates. \n",
    "\n",
    "\n",
    "\n"
   ]
  },
  {
   "cell_type": "markdown",
   "metadata": {},
   "source": [
    "## Steps and notebooks\n",
    "\n",
    "All steps were carried out in python notebooks, consisting of a data exploration step, followed by a formal analysis of the results. For analysis primarily the python pandas library ([https://pandas.pydata.org/]) was used and for visualization an opportunistic mix of matplotlib, especially pyplot ([https://matplotlib.org/]), seaborn ([https://seaborn.pydata.org/]) and the native pandas plotting capabilities.\n",
    "\n",
    "## Step one - exploration of the images\n",
    "\n",
    "### First step\n",
    "\n",
    "full notebook: https://github.com/HoekR/MIGRANT/blob/master/results/exploring_data_integration/notebooks/migratie_datasets_explorations_part_1.ipynb\n",
    "\n",
    "Contains a first exploration of the images and their properties. I will not outline all steps in detail here, details are available in the notebooks. At the time of writing approximately half of the card images were connected to the basic database that contains basic data about migrants (or was supposed to anyway). Combining cards and database required half manual - half automatic inspection and processing of the images.\n",
    "\n",
    "### Overview - distribution over time\n",
    "\n",
    "By connecting the cards and the basic data, cards could be dated using the the date of arrival in the basic database. This gives the following graphs\n",
    "\n",
    "<figure>\n",
    "  <img src=\"images/cards_per_year.png\" alt=\"number of cards per year\"/>\n",
    "   <figcaption><em>Number of cards per year</em></figcaption>\n",
    "</figure>\n",
    "\n",
    "and \n",
    "\n",
    "<figure>\n",
    "  <img src=\"images/edges_per_year.png\" alt=\"number of edges per year\"/>\n",
    "   <figcaption><em>mean edges per year</em></figcaption>\n",
    "</figure>\n",
    "\n",
    "Note that the two graphs show completely different views: _barplot 1_ shows absolute numbers of cards while _barplot 2_ shows the mean value of the number of edges, an aggregate that is not connected with the number of images. That is, a single image for a year may yield much higher mean edges values than the mean edges of one hundred images.\n",
    "\n",
    "\n",
    "\n"
   ]
  },
  {
   "cell_type": "markdown",
   "metadata": {},
   "source": [
    "Something else to not is that there are obviously mistakes in the dating. This is a result from data entry mistakes in the overview database, that do not appear to be systematic and that cannot be corrected within a reasonable time span. For the analysis, we will disregard all obviously wrong dates and assume that other errors even each other out. \n",
    "\n",
    "Another view of these data, subdivided by consulate (Brisbane, Melbourne and Sydney) is below. They show the distribution of the cards and edges subsequently. The more intense the color, the higher the density\n",
    "\n",
    "<figure>\n",
    "  <img src=\"images/cards_per_year_heatmap.png\" alt=\"number of cards per year\"/>\n",
    "   <figcaption><em>heatmap of number of cards per year</em></figcaption>\n",
    "</figure>\n",
    "\n",
    "and \n",
    "\n",
    "<figure>\n",
    "  <img src=\"images/edges_per_year_heatmap.png\" alt=\"number of edges per year\"/>\n",
    "   <figcaption><em>heatmap of mean edges per year</em></figcaption>\n",
    "</figure>\n",
    "\n",
    "The heatmaps above show the number of cards (_heatmap 1_) and the average information density per card per year (_heatmap 2_). There are some differences between the consulates. We should discard the values from before 1945; these are mistakes in the database. Sydney is most prominent in both number of cards and average information density (measured as the density of writing). Brisbane was less prominent in both respects.\n",
    "\n",
    "In all three consulates, there was shift in the number of cards (i.e. the number of arriving migrants), where the peak was in the second half of the 1950s and the density of the information, where there was a peak in the early 1960s until the later 1960, with a rivival in the late 1970s."
   ]
  },
  {
   "cell_type": "markdown",
   "metadata": {},
   "source": [
    "### Step two: comparison of the sample\n",
    "\n",
    "full notebook: [https://github.com/HoekR/MIGRANT/blob/master/results/exploring_data_integration/notebooks/migratie_datasets_explorations_part_2%20-%20sample.ipynb]\n",
    "\n",
    "The next step was to compare the data from the sample with the overview from the images, that also serves as a check whether these distributions coincide and therefore of the representativity of the sample.\n",
    "\n",
    "The distribution of migrants from the sample per year is comparable to that of that of the cards (barplot 1 above):\n",
    "\n",
    "<figure>\n",
    "  <img src=\"images/sample_migrants_p_y.png\" alt=\"number migrants per year\"/>\n",
    "   <figcaption><em>sample migrants per year</em></figcaption>\n",
    "</figure>\n",
    "\n",
    "\n",
    "We also compared a number of different measures of the information density. In a side-by-side plot (TODO fix cluttered x-axes-tick-labels):\n",
    "\n",
    "<figure>\n",
    "  <img src=\"images/compared_measures.png\" alt=\"different density measures per year\"/>\n",
    "   <figcaption><em>different information densities per year</em></figcaption>\n",
    "</figure>"
   ]
  },
  {
   "cell_type": "markdown",
   "metadata": {},
   "source": [
    "These compared barplots show that there is a rough, but not a precise correspondence between the number of events as counted from the sample (plot 3) and either the cumulative (plot 1) or the mean (plot 2) information density on the cards, measured as the mean number of edges. The events were deployed in the sample from the cards, by splitting out all the events per migrant recorded on the card(s). \n",
    "\n",
    "It is not surprising that there are differences: \n",
    "\n",
    "* _First_ the dates: there is a migration date, the only date available in the database and on the 'card level'. Then there are the event date, that start _after_ the migration date when there is a first interaction between the consulate keeping the card and the migrant in question. The events go on for an indefinite number of time, often years. We are actually looking at very different things here, but it is clear that the written recording of the events are reflected in the information density of the written text on the card. In effect plot 3 seems to have shifted compared to plot 1.\n",
    "\n",
    "* _Second_: we measure quite different things. With the events, we measure the number of recorded interactions between the consulate(s) and the migrant involved. The edges measure the information density on the cards, that is mainly but not exclusively determined by the interaction with the consulate. For a given year, the number of information density can be measured by the accumulated density of the cards, that is all edges added, or the mean density of the cards. The accumulated density is more appropriate as it is independent of the number of cards (or at least mostly). However it also has the effect of softening the extremes. For a measure of the general trend, this is the best idea.\n",
    "\n",
    "* _Third_: the mean information density is different as the total number of events in a year does not have much influence."
   ]
  },
  {
   "cell_type": "markdown",
   "metadata": {},
   "source": [
    "### Step 3: influence of migrant properties\n",
    "\n",
    " \n",
    "\n",
    "Full notebook: https://github.com/HoekR/MIGRANT/blob/master/results/exploring_data_integration/notebooks/emigration_data_exploration_part3.ipynb\n",
    "\n",
    "The next step is to explore the influence of the different variables we identified and explored in the sample. We explored the following (indicated with + for explored and - for unexplored):\n",
    "\n",
    "_administrative features_:\n",
    "* schemes +\n",
    "* timespan of events -\n",
    "* model of cards (using ocr) -\n",
    "\n",
    "_personal features_:\n",
    "* migrant unit type +\n",
    "* unit size +\n",
    "* religion +\n",
    "* age at time of arrival (main migrant) +\n",
    "* place of origin +\n",
    "* number of living adresses -\n",
    "\n",
    "\n",
    "For comparison, most of the plots are heat plots. \n",
    "\n",
    "#### migration schemes\n",
    "\n",
    "Migration schemes were bilateral agreements between the Dutch and the Australian government for subsidies to migrants; there were a number of different schemes, that partly overlapped in time. \n",
    "\n",
    "<figure>\n",
    "  <img src=\"images/sample_schemes_compared.png\" alt=\"migration schemes\"/>\n",
    "   <figcaption><em>information density per migration scheme for sample migrants per year</em></figcaption>\n",
    "</figure>\n",
    "\n",
    "The plots give a comparison between the different schemes for the cumulative (plot 1) and the mean (plot 2) information distribution. While the mean did not prove to be a very good measure for the overall distribution of information (see above), it gives a better indication of the differences of the average card per migrant because the total number of cards per scheme (and therefore the cumulative information density) varies a lot. The NAMA scheme is the most important in both respects, but all in all there was no significant different between the various schemes.\n",
    "The overall distribution over the years is also evident here. "
   ]
  },
  {
   "cell_type": "markdown",
   "metadata": {},
   "source": [
    "#### religion\n",
    "\n",
    "The religion of the migrants was recorded on the cards, although often not very systematically.\n",
    "\n",
    "\n",
    "<figure>\n",
    "  <img src=\"images/religion.png\" alt=\"religion (normalized)\"/>\n",
    "   <figcaption><em>information density per religion for sample migrants per year</em></figcaption>\n",
    "</figure>\n",
    "\n"
   ]
  },
  {
   "cell_type": "markdown",
   "metadata": {},
   "source": [
    "#### unit composition\n",
    "\n",
    "the composition of the migrant unit (the size was recorded separately), for cumulative edges/year\n",
    "\n",
    "<figure>\n",
    "  <img src=\"images/unit_composition.png\" alt=\"\"/>\n",
    "   <figcaption><em>information density per unit composition for sample migrants per year</em></figcaption>\n",
    "</figure>\n"
   ]
  },
  {
   "cell_type": "markdown",
   "metadata": {},
   "source": [
    "#### unit size\n",
    "\n",
    "the size of the migrant unit (the size was recorded separately), for cumulative edges/year. This is the size as it was recorded on the cards, usually at the time of arrival but many migrant units got children after arrival. These were not always recorded\n",
    "\n",
    "<figure>\n",
    "  <img src=\"images/unit_size.png\" alt=\"\"/>\n",
    "   <figcaption><em>information size per unit composition for sample migrants per year</em></figcaption>\n",
    "</figure>\n"
   ]
  },
  {
   "cell_type": "markdown",
   "metadata": {},
   "source": [
    "Exploring these variables, it becomes obvious that there is some variation, but also that there is not one single variable we have explored that determined information density on the cards: the distributions are too much alike. In other words, no formal characteristic of migrant alone influenced their contacts with the consulates."
   ]
  },
  {
   "cell_type": "markdown",
   "metadata": {},
   "source": [
    "#### Step 4\n",
    "\n",
    "Full notebook: https://github.com/HoekR/MIGRANT/blob/master/results/exploring_data_integration/notebooks/em_explo_part4_image_measures.ipynb\n",
    "\n",
    "Mean and cumulative densities proved (above) to be somewhat elusive measures. To make them more tangible, we divided them into groups of density. Below are the graphs of the distribution of information densities on the cards. We divided the cards into card front and card backs, that indeed have a markedly different distribution of densities. wo distibutions mean that the front of the cards usually have more information than the back. \n",
    "\n",
    "The main reason for this is, that the front of cards are mostly the formal parts, with the formal data of the emigration officials, such as name, birth date, date of migration etc, most of which ended up in the overview database.\n",
    "\n",
    "Sometimes below these formal data, but more often on the back of the cards information about the interactions between the migrants and the consulates was recorded. This was a new and extended use of the cards, that we have labelled events. T\n",
    "\n",
    "<figure>\n",
    "  <img src=\"images/distplot_cards_full.png\" alt=\"images density distribution\"/>\n",
    "   <figcaption><em>information distribution of images</em></figcaption>\n",
    "</figure>\n",
    "\n",
    "the following step was to divide them into different density groups, that were slightly different for front and backs \n",
    "\n",
    "<figure>\n",
    "  <img src=\"images/density_groups_cards.png\" alt=\"density groups\"/>\n",
    "   <figcaption><em>density groups for card fronts and backs</em></figcaption>\n",
    "</figure>"
   ]
  },
  {
   "cell_type": "markdown",
   "metadata": {},
   "source": [
    "#### Step 5\n",
    "\n",
    "full notebook https://github.com/HoekR/MIGRANT/blob/master/results/exploring_data_integration/notebooks/emigration_data_explorations_part5_sample_densities.ipynb\n",
    "\n",
    "This notebook is a continuation of the previous one, starting of with an application of the same method for the images of the cards from the sample. The grouping had to be somewhat simplified as the number of images involved is much smaller. Densities range from empty to dense.\n",
    "\n",
    "We then proceeded to assign different card density profiles per migrant. The profiles have to be simpler than the division in several fronts and backs of cards for one migrant would allow for, so we devised a scoring system based on the card densities. \n",
    "\n",
    "#### scores\n",
    "The procedure was \n",
    "* to assign the card-densities a number instead of the empty-dense qualifications, in which empty is 0 and dense is 4\n",
    "* then add the scores of the front of the card and the cumulative scores of the subsequent images, both backs and fronts of follow-up cards\n",
    "* as the resulting scores were still to intricate, especially for visual representation and all migrants with a cumulative score above 4 had one dense card anyway and their numbers were limited, for this sample but also for the whole population (see the distribution above). Therefore, a further normalization was made from in which scores 0-4 were mapped back to categories:\n",
    "    - empty (0)\n",
    "    - small (1)\n",
    "    - medium (2)\n",
    "    - large (3)\n",
    "    - dense (4)\n",
    "    \n",
    "\n",
    "\n",
    " "
   ]
  },
  {
   "cell_type": "markdown",
   "metadata": {},
   "source": [
    "#### combining scores and features\n",
    "next scores and migrant features could be combined; the goal is to see which features or combination of features of migrants contributed (most) to the density of information on the cards. The reverse of this is of course that a particular card density contains information about a special type of  migrant. \n",
    "\n",
    "The categories were more or less the same as we saw above:\n",
    "- migrant scheme\n",
    "- religion\n",
    "- type and size of migrant unit\n",
    "\n",
    "#### religion\n",
    "\n",
    "Reduced to catholic, protestant, other and no religion\n",
    "\n",
    "<figure>\n",
    "  <img src=\"images/nrm_religion_score_fronts.png\" alt=\"religion and score\"/>\n",
    "   <figcaption><em>religion - card fronts</em></figcaption>\n",
    "</figure>\n",
    "\n",
    "\n",
    "<figure>\n",
    "  <img src=\"images/nrm_religion_score.png\" alt=\"religion and score\"/>\n",
    "   <figcaption><em>religion - card backs</em></figcaption>\n",
    "</figure>\n",
    "\n",
    "\n",
    "#### unit type \n",
    "\n",
    "<figure>\n",
    "  <img src=\"images/nrm_unittype_front.png\" alt=\"unittype\"/>\n",
    "   <figcaption><em>unit type - card fronts</em></figcaption>\n",
    "</figure>\n",
    "\n",
    "\n",
    "<figure>\n",
    "  <img src=\"images/nrm_unittype.png\" alt=\"unittype\"/>\n",
    "   <figcaption><em>unit type - card backs</em></figcaption>\n",
    "</figure>"
   ]
  },
  {
   "cell_type": "markdown",
   "metadata": {},
   "source": [
    "#### Analysis: distributions\n",
    "\n",
    "The single migrants seem to have either no interactions, or a lot of interactions with the consulates. In the following graph we plotted the numbers as bars, but the real distribution appears from the two percentage tables. The second table (samenstelling_rest_norm2) shows the distribution of the number of migrants as a percentage of the total number of cards, divided into the card density distribution. In other words, if you take a sample of cards, it will have a distribution over the different categories of family composition (Alone, Couple and Family) of the percentages shown. From this, it appears there, for example if we select dense cards, we will find 45.8% migrants travelling alone, 14.8% travelling as a couple, and 39.4% travelling as families.\n",
    "\n",
    "But the first table shows that for the different migrant groups the distribution over the different categories is rather different. For example, 34.8% of the migrants travelling alone had cards in the 'dense' category, versus 33.9% of the couples and 33.3% of the families. These numbers are not so different after all.\n",
    "\n",
    "In other words, all types of migrants (according to the unit typology of _alone, couples, and family_) had an almost equal chance of having a dense cards. The actual larger numbers of 'alone' and 'family' migrants in the 'dense' category should be attributed to the larger of number of migrants in this category compared to those in the 'couple' category.\n",
    "\n",
    "This is something that was not so obvious from the graphs.\n",
    "\n",
    "The same remarks are true for the distribution over age groups, as shown in the graphs below."
   ]
  },
  {
   "cell_type": "markdown",
   "metadata": {},
   "source": [
    "### Age groups\n",
    "\n",
    "<figure>\n",
    "  <img src=\"images/age_groups.png\" alt=\"age groups and score\"/>\n",
    "    \n",
    "<figcaption><em>age groups and information density</em></figcaption>\n",
    "</figure>"
   ]
  },
  {
   "cell_type": "markdown",
   "metadata": {},
   "source": [
    "### Combining categories\n",
    "\n",
    "From the above, we may conclude that the scores of the separate categories have no decisive influence on the information density on the cards. What we actually mostly see reflected is the distribution of population. In other words - no single feature of migrants was a reason for the consulates to meddle more or less with their lives, or, the other way round, no single feature of the migrants was reason to seek help from the consulates, at least in a statistical sense.\n",
    "\n",
    "Perhaps we can refine this by combining categories. For the time being, we concentrate on the backs and sequal cards, that is on the non-formal interactions between migrants and consulates. If this gives interesting results, we may contrast it with the information distribution on the cards fronts.\n",
    "\n",
    "The first combination is religion and (normalized) migration schemes.\n",
    "\n",
    "\n",
    "\n",
    "\n",
    "\n"
   ]
  },
  {
   "cell_type": "markdown",
   "metadata": {},
   "source": [
    "<figure>\n",
    "  <img src=\"images/schema_religion.png\" alt=\"unittype\"/>\n",
    "   <figcaption><em>schema and religion - card backs</em></figcaption>\n",
    "</figure>\n",
    "\n",
    "\n",
    "and a comparison of the religions per schema\n",
    "\n",
    "<figure>\n",
    "  <img src=\"images/religion_per_schema.png\" alt=\"unittype\"/>\n",
    "   <figcaption><em>schema and religion - card backs</em></figcaption>\n",
    "</figure>"
   ]
  },
  {
   "cell_type": "code",
   "execution_count": 5,
   "metadata": {
    "hide_input": true
   },
   "outputs": [],
   "source": [
    "import pandas as pd"
   ]
  },
  {
   "cell_type": "markdown",
   "metadata": {
    "hide_input": false
   },
   "source": [
    "#### Analysis: combined distributions\n",
    "\n",
    "While single features are not very conclusive for the information density, a combination of features gives some more insight. NAMA is important in all religious denominations and represents some 36 percent of the total population, while the LP scheme only represents 11 percent, JP 3 percent, NGAS 1 percent, NESS 4 percent and of 25 percent there was another schema or no schema was mentioned. Typically, the migrants with an unknown religious affiliation were over-represented in the 'other' schemas where they occupy 66 percent of the cases, and most of the cards held little information. While this calls for some content explanation, this cannot be glanced from the formal information we are dealing with, and we will leave it for another analysis.\n",
    "\n",
    "#### Schemas\n",
    "\n",
    "Below, there is a table of the distribution of the card densities  over the various migration schemes, in absolute numbers and in percentages. \n",
    "\n",
    "The NAMA scheme was the largest (a little less than half) of all migration schemes overall and especially when a lot of information was generated (the dense and large categories). The rest category of schemes (summarized as 'other') was responsible for another 30 percent. Perhaps this is mainly attributable to there being no indication of a scheme on the cards; this calls for further research\n",
    "\n",
    "\n",
    "The JP scheme was relatively small, but there were many migrants there that got a lot of attention from the consulates.\n",
    "\n",
    "The other schemes together had only 10 percent of the migrants (for the whole population, this is still some 500 migrant units). \n"
   ]
  },
  {
   "cell_type": "markdown",
   "metadata": {},
   "source": [
    "\n",
    "\n",
    "\n",
    "\n",
    "<table>\n",
    "<thead><tr><th>absolute numbers</th></tr></thead><tbody>\n",
    " <tr><td>&nbsp;</td><td>all</td><td>dense</td><td>large</td><td>medium</td><td>small</td><td>empty</td></tr>\n",
    " <tr><td>NAMA</td><td>184</td><td>69</td><td>28</td><td>14</td><td>32</td><td>41</td></tr>\n",
    " <tr><td>other</td><td>133</td><td>38</td><td>18</td><td>19</td><td>26</td><td>32</td></tr>\n",
    " <tr><td>LP</td><td>54</td><td>16</td><td>3</td><td>6</td><td>10</td><td>19</td></tr>\n",
    " <tr><td>NESS</td><td>20</td><td>2</td><td>4</td><td>2</td><td>7</td><td>5</td></tr>\n",
    " <tr><td>JP</td><td>16</td><td>13</td><td>3</td><td>0</td><td>0</td><td>0</td></tr>\n",
    " <tr><td>NGAS</td><td>6</td><td>2</td><td>2</td><td>1</td><td>0</td><td>1</td></tr>\n",
    " <tr><td>&nbsp;</td><td>&nbsp;</td><td>&nbsp;</td><td>&nbsp;</td><td>&nbsp;</td><td>&nbsp;</td><td>&nbsp;</td></tr>\n",
    " <tr><td>&nbsp;</td><td>413</td><td>140</td><td>58</td><td>42</td><td>75</td><td>98</td></tr>\n",
    "</tbody></table>\n",
    "\n",
    "<table class=\"tableizer-table\">\n",
    "<thead><tr class=\"tableizer-firstrow\"><th>percentages</th></tr></thead><tbody>\n",
    " <tr><td>&nbsp;</td><td>all</td><td>dense</td><td>large</td><td>medium</td><td>small</td><td>empty</td></tr>\n",
    " <tr><td>NAMA</td><td>45</td><td>49</td><td>48</td><td>33</td><td>43</td><td>42</td></tr>\n",
    " <tr><td>other</td><td>32</td><td>27</td><td>31</td><td>45</td><td>35</td><td>33</td></tr>\n",
    " <tr><td>LP</td><td>13</td><td>11</td><td>5</td><td>14</td><td>13</td><td>19</td></tr>\n",
    " <tr><td>NESS</td><td>5</td><td>1</td><td>7</td><td>5</td><td>9</td><td>5</td></tr>\n",
    " <tr><td>JP</td><td>4</td><td>9</td><td>5</td><td>0</td><td>0</td><td>0</td></tr>\n",
    " <tr><td>NGAS</td><td>1</td><td>1</td><td>3</td><td>2</td><td>0</td><td>1</td></tr>\n",
    " <tr><td>&nbsp;</td><td>&nbsp;</td><td>&nbsp;</td><td>&nbsp;</td><td>&nbsp;</td><td>&nbsp;</td><td>&nbsp;</td></tr>\n",
    " <tr><td>&nbsp;</td><td>100</td><td>34</td><td>14</td><td>10</td><td>18</td><td>24</td></tr>\n",
    "</tbody></table>"
   ]
  },
  {
   "cell_type": "markdown",
   "metadata": {},
   "source": [
    "#### Religion\n",
    "\n",
    "The distribution of the various religions of the migrants over the schemes may be summarized as follows:\n",
    "\n",
    "* the largest number of migrants had an explicitly catholic denominationand about two-thirds of the catholics travelled under the NAMA scheme. They either had hardly any information or relatively much information. Half of those travelling under the rest category scheme had a lot of interaction with the consulates. The NGAS schema was very small but mostly had catholic migrants and no protestants; their cards were usually information dense\n",
    "* the second largest group was protestant, they also travelled predominantly under the NAMA schema and more than half of them had large or dense cards (CHECK: is this a flaw in the sample??)\n",
    "* the other groups had no special features, but the NESS scheme apparently did not record religious affiliation, as it only contains migrants with an 'unknown' religion."
   ]
  },
  {
   "cell_type": "markdown",
   "metadata": {},
   "source": [
    "<table>\n",
    "<thead><tr><th align=\"center\">catholic</th></tr></thead><tbody>\n",
    " <tr><td>schemas</td><td>JP</td><td>LP</td><td>NAMA</td><td>NGAS</td><td>other</td></tr>\n",
    " <tr><td>score</td><td>&nbsp;</td><td>&nbsp;</td><td>&nbsp;</td><td>&nbsp;</td><td>&nbsp;</td></tr>\n",
    " <tr><td>empty</td><td>&nbsp;</td><td>2</td><td>20</td><td>&nbsp;</td><td>1</td></tr>\n",
    " <tr><td>small</td><td>&nbsp;</td><td>&nbsp;</td><td>15</td><td>&nbsp;</td><td>1</td></tr>\n",
    " <tr><td>medium</td><td>&nbsp;</td><td>1</td><td>9</td><td>1</td><td>2</td></tr>\n",
    " <tr><td>large</td><td>&nbsp;</td><td>1</td><td>9</td><td>2</td><td>4</td></tr>\n",
    " <tr><td>dense</td><td>2</td><td>6</td><td>23</td><td>1</td><td>13</td></tr>\n",
    " <tr><td>Total</td><td>2</td><td>10</td><td>76</td><td>4</td><td>21</td></tr>\n",
    " <tr><th>protestant</th></tr>\n",
    " <tr><td>&nbsp;</td><td>JP</td><td>LP</td><td>NAMA</td><td>NGAS</td><td>other</td></tr>\n",
    " <tr><td>empty</td><td>&nbsp;</td><td>3</td><td>9</td><td>&nbsp;</td><td>5</td></tr>\n",
    " <tr><td>small</td><td>&nbsp;</td><td>1</td><td>6</td><td>&nbsp;</td><td>4</td></tr>\n",
    " <tr><td>medium</td><td>&nbsp;</td><td>1</td><td>1</td><td>&nbsp;</td><td>4</td></tr>\n",
    " <tr><td>large</td><td>2</td><td>1</td><td>8</td><td>&nbsp;</td><td>5</td></tr>\n",
    " <tr><td>dense</td><td>5</td><td>2</td><td>21</td><td>&nbsp;</td><td>7</td></tr>\n",
    " <tr><td>total</td><td>7</td><td>8</td><td>45</td><td>&nbsp;</td><td>25</td></tr>\n",
    " <tr><th>other</th></tr>\n",
    " <tr><td>&nbsp;</td><td>&nbsp;</td><td>LP</td><td>NAMA</td><td>NGAS</td><td>&nbsp;</td></tr>\n",
    " <tr><td>empty</td><td>&nbsp;</td><td>1</td><td>1</td><td>&nbsp;</td><td>&nbsp;</td></tr>\n",
    " <tr><td>small</td><td>&nbsp;</td><td>&nbsp;</td><td>&nbsp;</td><td>&nbsp;</td><td>&nbsp;</td></tr>\n",
    " <tr><td>medium</td><td>&nbsp;</td><td>&nbsp;</td><td>1</td><td>&nbsp;</td><td>&nbsp;</td></tr>\n",
    " <tr><td>large</td><td>&nbsp;</td><td>&nbsp;</td><td>2</td><td>&nbsp;</td><td>&nbsp;</td></tr>\n",
    " <tr><td>dense</td><td>&nbsp;</td><td>&nbsp;</td><td>1</td><td>1</td><td>&nbsp;</td></tr>\n",
    " <tr><td>total</td><td>&nbsp;</td><td>1</td><td>5</td><td>1</td><td>&nbsp;</td></tr>\n",
    " <tr><th>no_religion</th></tr>\n",
    " <tr><td>&nbsp;</td><td>JP</td><td>LP</td><td>NAMA</td><td>NGAS</td><td>other</td></tr>\n",
    " <tr><td>empty</td><td>&nbsp;</td><td>1</td><td>7</td><td>1</td><td>1</td></tr>\n",
    " <tr><td>small</td><td>&nbsp;</td><td>4</td><td>7</td><td>&nbsp;</td><td>1</td></tr>\n",
    " <tr><td>medium</td><td>&nbsp;</td><td>2</td><td>2</td><td>&nbsp;</td><td>&nbsp;</td></tr>\n",
    " <tr><td>large</td><td>&nbsp;</td><td>1</td><td>7</td><td>&nbsp;</td><td>&nbsp;</td></tr>\n",
    " <tr><td>dense</td><td>5</td><td>1</td><td>8</td><td>&nbsp;</td><td>3</td></tr>\n",
    " <tr><td>total</td><td>5</td><td>9</td><td>31</td><td>1</td><td>5</td></tr>\n",
    " <tr><th>unknown</th></tr>\n",
    " <tr><td>&nbsp;</td><td>JP</td><td>LP</td><td>NAMA</td><td>NESS</td><td>other</td></tr>\n",
    " <tr><td>empty</td><td>&nbsp;</td><td>12</td><td>4</td><td>5</td><td>25</td></tr>\n",
    " <tr><td>small</td><td>&nbsp;</td><td>5</td><td>4</td><td>7</td><td>20</td></tr>\n",
    " <tr><td>medium</td><td>&nbsp;</td><td>2</td><td>1</td><td>2</td><td>13</td></tr>\n",
    " <tr><td>large</td><td>1</td><td>&nbsp;</td><td>2</td><td>4</td><td>9</td></tr>\n",
    " <tr><td>dense</td><td>1</td><td>7</td><td>16</td><td>2</td><td>15</td></tr>\n",
    " <tr><td>total</td><td>2</td><td>26</td><td>27</td><td>20</td><td>82</td></tr>\n",
    "</tbody></table>\n"
   ]
  },
  {
   "cell_type": "markdown",
   "metadata": {},
   "source": [
    "<figure>\n",
    "  <img src=\"images/religion_family_size.png\" alt=\"unittype\"/>\n",
    "   <figcaption><em>religion, family and size - card backs</em></figcaption>\n",
    "</figure>"
   ]
  },
  {
   "cell_type": "markdown",
   "metadata": {},
   "source": [
    "#### Family size and religion\n",
    "\n",
    "The religions can be further broken down by family type (single migrants, couples or families) family size (with small with 2-3 children, medium 4-5 children and large 5+ children). We have only done so for the migrants with a known religion. The group with 'other' religion is too small for significant results.\n",
    "\n",
    "* there were not many families with many children (mostly at the time of migration, by the way) and if they had, they were catholic and tended to have a lot of interactions with the consulates.\n",
    "* while there were many single migrants who had little interactions with the consulates, more than half of them had dense cards, catholics more so than protestants. It requires, of course, more research to determine what the nature of these interactions was.\n",
    "* most of the families were small; protestant small families had more interactions with the consulates than the catholic.\n",
    "* protestant medium sized families also had more interactions\n",
    "\n"
   ]
  },
  {
   "cell_type": "markdown",
   "metadata": {},
   "source": [
    "tussenstap\n",
    "\n",
    "notebook https://github.com/HoekR/MIGRANT/blob/master/results/exploring_data_integration/notebooks/mapped_migration_origins(sample).ipynb\n",
    "\n",
    "met geopandas visualisatie van de herkomst per tijdseenheid van de migranten uit de steekproef (van wie we deels de woonplaats weten) "
   ]
  },
  {
   "cell_type": "markdown",
   "metadata": {},
   "source": []
  },
  {
   "cell_type": "code",
   "execution_count": null,
   "metadata": {},
   "outputs": [],
   "source": []
  }
 ],
 "metadata": {
  "kernelspec": {
   "display_name": "Python 3",
   "language": "python",
   "name": "python3"
  },
  "language_info": {
   "codemirror_mode": {
    "name": "ipython",
    "version": 3
   },
   "file_extension": ".py",
   "mimetype": "text/x-python",
   "name": "python",
   "nbconvert_exporter": "python",
   "pygments_lexer": "ipython3",
   "version": "3.7.2"
  },
  "toc": {
   "base_numbering": 1,
   "nav_menu": {},
   "number_sections": false,
   "sideBar": true,
   "skip_h1_title": false,
   "title_cell": "Table of Contents",
   "title_sidebar": "Contents",
   "toc_cell": true,
   "toc_position": {},
   "toc_section_display": true,
   "toc_window_display": false
  }
 },
 "nbformat": 4,
 "nbformat_minor": 2
}
