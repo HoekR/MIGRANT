{
 "cells": [
  {
   "cell_type": "markdown",
   "metadata": {},
   "source": [
    "# Reduce separate images to cards\n",
    "\n",
    "We take the output of a query to the cards and consolidate them to the numbers of migrant units. This gives a more reliable measure of the information density per person. Then we can further group them per year and consulate."
   ]
  },
  {
   "cell_type": "code",
   "execution_count": 23,
   "metadata": {
    "collapsed": false
   },
   "outputs": [
    {
     "name": "stdout",
     "output_type": "stream",
     "text": [
      "23388  cards\n",
      "cards_1945-1992.csv written\n"
     ]
    }
   ],
   "source": [
    "from csv import reader, writer\n",
    "from operator import itemgetter\n",
    "from itertools import groupby\n",
    "\n",
    "flin = open('1945-1992.csv')\n",
    "reader = reader(flin)\n",
    "\n",
    "rows = [{'yr':row[0],'edges': row[1], 'bak':row[2], 'card':row[3]} for row in reader]\n",
    "\n",
    "flin.close()\n",
    "newlist = sorted(rows, key=itemgetter('card'))\n",
    "\n",
    "nnlst = {}\n",
    "for k,v in groupby(newlist,key=lambda x:x['card']):\n",
    "  nnlst[k] = list(v)\n",
    "\n",
    "\n",
    "ims  = nnlst.items()\n",
    "print (len(ims), ' cards')\n",
    "\n",
    "ndict = []\n",
    "for k in list(nnlst.keys()):\n",
    "    edges = sum([int(i['edges']) for i in nnlst[k]])\n",
    "    row = [k, nnlst[k][0]['yr'], nnlst[k][0]['bak'], edges]\n",
    "    ndict.append(row) \n",
    "    \n",
    "flout = open('cards_1945-1992.csv', 'w')\n",
    "w = writer(flout)\n",
    "w.writerow(['migrantunit', 'yr', 'bak', 'edges'])\n",
    "w.writerows(ndict)\n",
    "flout.close()\n",
    "print('%s written' % flout.name)"
   ]
  },
  {
   "cell_type": "code",
   "execution_count": null,
   "metadata": {
    "collapsed": true
   },
   "outputs": [],
   "source": []
  }
 ],
 "metadata": {
  "kernelspec": {
   "display_name": "Python 3",
   "language": "python",
   "name": "python3"
  },
  "language_info": {
   "codemirror_mode": {
    "name": "ipython",
    "version": 3
   },
   "file_extension": ".py",
   "mimetype": "text/x-python",
   "name": "python",
   "nbconvert_exporter": "python",
   "pygments_lexer": "ipython3",
   "version": "3.5.1"
  }
 },
 "nbformat": 4,
 "nbformat_minor": 0
}
