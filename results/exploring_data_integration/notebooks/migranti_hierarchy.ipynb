{
 "cells": [
  {
   "cell_type": "code",
   "execution_count": 76,
   "metadata": {
    "collapsed": false
   },
   "outputs": [],
   "source": [
    "# Run this cell to import the necessary libraries and initiate an Elasticsearch object.\n",
    "import csv\n",
    "import os\n",
    "from elasticsearch import Elasticsearch\n",
    "from elasticsearch.exceptions import RequestError\n",
    "import datetime\n",
    "\n",
    "import json\n",
    "from IPython.core.display import display, HTML\n",
    "import re\n",
    "\n",
    "es = Elasticsearch()\n",
    "\n",
    "def create_index(es, index, delete=True):\n",
    "    INDEX_NAME=index\n",
    "    if es.indices.exists(INDEX_NAME) and delete==True:\n",
    "        print(\"deleting '%s' index...\" % (INDEX_NAME))\n",
    "        res = es.indices.delete(index = INDEX_NAME)\n",
    "        print(\" response: '%s'\" % (res))\n",
    "    # since we are running locally, use one shard and no replicas\n",
    "    request_body = {\n",
    "        \"settings\" : {\n",
    "            \"number_of_shards\": 1,\n",
    "            \"number_of_replicas\": 0\n",
    "        }\n",
    "    }\n",
    "    print(\"creating '%s' index...\" % (INDEX_NAME))\n",
    "    res = es.indices.create(index = INDEX_NAME, body = request_body)\n",
    "    print(\" response: '%s'\" % (res))"
   ]
  },
  {
   "cell_type": "markdown",
   "metadata": {},
   "source": [
    "Onderzoek naar one to many relationships in dictionary. En query\n",
    "Basisprobleem: kan maar 1 parent gebruiken en children kun je niet definieren\n",
    "\n",
    "Probleem 1:\n",
    "\n",
    "- 2 personen instanties van 1 persoon\n",
    "\n",
    "probleem 2:\n",
    "\n",
    "- 1 persoon hoort bij verschillende units\n"
   ]
  },
  {
   "cell_type": "code",
   "execution_count": 77,
   "metadata": {
    "collapsed": false
   },
   "outputs": [
    {
     "name": "stdout",
     "output_type": "stream",
     "text": [
      "naam: ['jan', 'jan']; unit: [1]\n",
      "naam: ['kees']; unit: [2]\n"
     ]
    }
   ],
   "source": [
    "#define person instances. In the case of emigrants these are the persons on the cards\n",
    "\n",
    "pi1 = {'id': 1,\n",
    "        'naam': 'jan',\n",
    "        'type':'persoon_instantie',\n",
    "        '_parent': {'type':'unit',\n",
    "                    'id':1}}\n",
    "\n",
    "pi2 = {'id': 2,\n",
    "        'naam': 'jan',\n",
    "        'type':'persoon_instantie',\n",
    "        '_parent': {'type':'unit',\n",
    "                        'id':1}}\n",
    "\n",
    "pi3 = {'id': 3,\n",
    "        'naam': 'kees',\n",
    "        'type':'persoon_instantie',\n",
    "        '_parent': {'type':'unit',\n",
    "                    'id':2}}\n",
    "\n",
    "#define (identified) persons\n",
    "persoon1 = {'id': 'I',\n",
    "           'type':'persoon',\n",
    "           'pi':[1, 2]}\n",
    "\n",
    "persoon2 = {'id': 'II',\n",
    "           'type':'persoon',\n",
    "           'pi':[3]}\n",
    "\n",
    "#define migrant units\n",
    "unit1 = {'id': 1,\n",
    "        'type': 'unit'}\n",
    "\n",
    "unit2 = {'id': 2,\n",
    "        'type': 'unit'}\n",
    "\n",
    "\n",
    "#make collections of all types\n",
    "pis = [pi1, pi2, pi3]\n",
    "personen = [persoon1, persoon2]\n",
    "units = [unit1, unit2]\n",
    "\n",
    "#get instances per identified person\n",
    "for ps in personen:\n",
    "    dep_pers = [p for p in pis if p['id'] in ps['pi']]\n",
    "    namen = [pi['naam'] for pi in dep_pers]\n",
    "    unit = [u['id'] for u in units if u['id'] in [d['_parent']['id'] for d in dep_pers]]\n",
    "    print \"naam: {name}; unit: {unit}\".format(name=namen, unit=unit) "
   ]
  },
  {
   "cell_type": "code",
   "execution_count": 78,
   "metadata": {
    "collapsed": false
   },
   "outputs": [
    {
     "name": "stdout",
     "output_type": "stream",
     "text": [
      "deleting 'test_migrant' index...\n",
      " response: '{u'acknowledged': True}'\n",
      "creating 'example_index' index...\n"
     ]
    }
   ],
   "source": [
    "# nu als elasticsearch mapping\n",
    "\n",
    "# create index\n",
    "index = 'test_migrant'\n",
    "\n",
    "request_body = {\n",
    "        \"settings\" : {\n",
    "            \"number_of_shards\": 5,\n",
    "            \"number_of_replicas\": 1\n",
    "        },\n",
    "\n",
    "       'mappings': {\n",
    "            \"travel\": {},\n",
    "            \"unit\": {\"properties\": {\n",
    "                        'prs_achternaam': {\"type\":\"string\"},\n",
    "                        'prs_initialen': {\"type\":\"string\"},\n",
    "                        'prs_tussenvoegsel': {\"type\":\"string\"},\n",
    "                        'prs_uuid': {\"type\":\"string\"}\n",
    "                        }\n",
    "                     },    \n",
    "            \"person_instance\": {\n",
    "                    \"_parent\": {\"type\": \"unit\"},\n",
    "                    \"properties\":{}\n",
    "                    },\n",
    "\n",
    "            \"person\" : {}\n",
    "\n",
    "          }\n",
    "    }\n",
    "\n",
    "INDEX_NAME=index\n",
    "if es.indices.exists(INDEX_NAME):\n",
    "    print(\"deleting '%s' index...\" % (INDEX_NAME))\n",
    "    res = es.indices.delete(index = INDEX_NAME)\n",
    "    print(\" response: '%s'\" % (res))\n",
    "print(\"creating 'example_index' index...\")\n",
    "es.indices.create(index = index, body = request_body)\n",
    "\n",
    "# check mapping\n",
    "es.indices.get_mapping(index = index)\n",
    "\n",
    "def upload_bulk(index, typ, data_dict):\n",
    "    bulk_data = []\n",
    "    for item in enumerate(data_dict):\n",
    "        bulk_data.append({'index':{'_type':typ, \n",
    "                                   '_index':index, \n",
    "                                   '_id':'%s' % item[0]}})\n",
    "        bulk_data.append(item[1])\n",
    "    \n",
    "    es.bulk(index=index, body=bulk_data, refresh=True)\n",
    "\n",
    "\n"
   ]
  },
  {
   "cell_type": "code",
   "execution_count": 79,
   "metadata": {
    "collapsed": false
   },
   "outputs": [],
   "source": [
    "#test inserts\n",
    "\n",
    "# following from https://sarahleejane.github.io/learning/python/2015/10/14/creating-an-elastic-search-index-with-python.html\n",
    "data_dict = [{'parent': '1',\n",
    "  'prs_achternaam': 'Aafjes',\n",
    "  'prs_initialen': 'G.H.',\n",
    "  'prs_tussenvoegsel': '',\n",
    "  'prs_uuid': '76abc6fc-e8eb-102c-b6de-005056a23d00'},\n",
    " {'parent': '2',\n",
    "  'prs_achternaam': 'Aafjes',\n",
    "  'prs_initialen': 'K.',\n",
    "  'prs_tussenvoegsel': '',\n",
    "  'prs_uuid': '76abd066-e8eb-102c-b6de-005056a23d00'},\n",
    " {'parent': '3',\n",
    "  'prs_achternaam': 'Aay',\n",
    "  'prs_initialen': 'P.A.',\n",
    "  'prs_tussenvoegsel': '',\n",
    "  'prs_uuid': '76abd73c-e8eb-102c-b6de-005056a23d00'},\n",
    " {'parent': '4',\n",
    "  'prs_achternaam': 'Aalbregt',\n",
    "  'prs_initialen': 'C.',\n",
    "  'prs_tussenvoegsel': '',\n",
    "  'prs_uuid': '76abdc82-e8eb-102c-b6de-005056a23d00'},\n",
    " {'parent': '5',\n",
    "  'prs_achternaam': 'Aalderen',\n",
    "  'prs_initialen': 'K.',\n",
    "  'prs_tussenvoegsel': 'van',\n",
    "  'prs_uuid': '76abe13c-e8eb-102c-b6de-005056a23d00'}]\n",
    "\n",
    "\n",
    "upload_bulk(data_dict)\n",
    "\n"
   ]
  },
  {
   "cell_type": "code",
   "execution_count": 80,
   "metadata": {
    "collapsed": false
   },
   "outputs": [
    {
     "data": {
      "text/plain": [
       "{u'test_migrant': {u'mappings': {u'person': {},\n",
       "   u'person_instance': {u'_parent': {u'type': u'unit'},\n",
       "    u'_routing': {u'required': True}},\n",
       "   u'travel': {},\n",
       "   u'unit': {u'properties': {u'parent': {u'fields': {u'keyword': {u'ignore_above': 256,\n",
       "        u'type': u'keyword'}},\n",
       "      u'type': u'text'},\n",
       "     u'prs_achternaam': {u'type': u'text'},\n",
       "     u'prs_initialen': {u'type': u'text'},\n",
       "     u'prs_tussenvoegsel': {u'type': u'text'},\n",
       "     u'prs_uuid': {u'type': u'text'}}}}}}"
      ]
     },
     "execution_count": 80,
     "metadata": {},
     "output_type": "execute_result"
    }
   ],
   "source": [
    "es.indices.get_mapping(index = index)"
   ]
  },
  {
   "cell_type": "code",
   "execution_count": 85,
   "metadata": {
    "collapsed": false
   },
   "outputs": [
    {
     "name": "stdout",
     "output_type": "stream",
     "text": [
      "[{u'prs_initialen': u'G.H.', u'prs_tussenvoegsel': u'', u'prs_achternaam': u'Aafjes', u'parent': u'1', u'prs_uuid': u'76abc6fc-e8eb-102c-b6de-005056a23d00'}, {u'prs_initialen': u'P.A.', u'prs_tussenvoegsel': u'', u'prs_achternaam': u'Aay', u'parent': u'3', u'prs_uuid': u'76abd73c-e8eb-102c-b6de-005056a23d00'}, {u'prs_initialen': u'K.', u'prs_tussenvoegsel': u'van', u'prs_achternaam': u'Aalderen', u'parent': u'5', u'prs_uuid': u'76abe13c-e8eb-102c-b6de-005056a23d00'}, {u'prs_initialen': u'K.', u'prs_tussenvoegsel': u'', u'prs_achternaam': u'Aafjes', u'parent': u'2', u'prs_uuid': u'76abd066-e8eb-102c-b6de-005056a23d00'}, {u'prs_initialen': u'C.', u'prs_tussenvoegsel': u'', u'prs_achternaam': u'Aalbregt', u'parent': u'4', u'prs_uuid': u'76abdc82-e8eb-102c-b6de-005056a23d00'}]\n"
     ]
    }
   ],
   "source": [
    "result = es.search(body={\"query\": {\"match_all\": {}}}, index=index)\n",
    "print ([hit['_source']  for hit in result['hits']['hits']])"
   ]
  },
  {
   "cell_type": "code",
   "execution_count": 86,
   "metadata": {
    "collapsed": false
   },
   "outputs": [
    {
     "data": {
      "text/plain": [
       "[{u'parent': u'1',\n",
       "  u'prs_achternaam': u'Aafjes',\n",
       "  u'prs_initialen': u'G.H.',\n",
       "  u'prs_tussenvoegsel': u'',\n",
       "  u'prs_uuid': u'76abc6fc-e8eb-102c-b6de-005056a23d00'},\n",
       " {u'parent': u'3',\n",
       "  u'prs_achternaam': u'Aay',\n",
       "  u'prs_initialen': u'P.A.',\n",
       "  u'prs_tussenvoegsel': u'',\n",
       "  u'prs_uuid': u'76abd73c-e8eb-102c-b6de-005056a23d00'},\n",
       " {u'parent': u'5',\n",
       "  u'prs_achternaam': u'Aalderen',\n",
       "  u'prs_initialen': u'K.',\n",
       "  u'prs_tussenvoegsel': u'van',\n",
       "  u'prs_uuid': u'76abe13c-e8eb-102c-b6de-005056a23d00'},\n",
       " {u'parent': u'2',\n",
       "  u'prs_achternaam': u'Aafjes',\n",
       "  u'prs_initialen': u'K.',\n",
       "  u'prs_tussenvoegsel': u'',\n",
       "  u'prs_uuid': u'76abd066-e8eb-102c-b6de-005056a23d00'},\n",
       " {u'parent': u'4',\n",
       "  u'prs_achternaam': u'Aalbregt',\n",
       "  u'prs_initialen': u'C.',\n",
       "  u'prs_tussenvoegsel': u'',\n",
       "  u'prs_uuid': u'76abdc82-e8eb-102c-b6de-005056a23d00'}]"
      ]
     },
     "execution_count": 86,
     "metadata": {},
     "output_type": "execute_result"
    }
   ],
   "source": [
    "def query(index, q):\n",
    "    \"\"\"wrapping up arcane elasticsearch results for program reuse\n",
    "    Kicked out all es metadata for starts\n",
    "    \"\"\"\n",
    "    result = es.search(index=index, body={\"query\": q})\n",
    "    res = [hit['_source']  for hit in result['hits']['hits']]\n",
    "    return res\n",
    "\n",
    "q = {\"match_all\": {}}\n",
    "\n",
    "query(index, q)"
   ]
  },
  {
   "cell_type": "code",
   "execution_count": null,
   "metadata": {
    "collapsed": true
   },
   "outputs": [],
   "source": []
  }
 ],
 "metadata": {
  "kernelspec": {
   "display_name": "Python 2",
   "language": "python",
   "name": "python2"
  },
  "language_info": {
   "codemirror_mode": {
    "name": "ipython",
    "version": 2
   },
   "file_extension": ".py",
   "mimetype": "text/x-python",
   "name": "python",
   "nbconvert_exporter": "python",
   "pygments_lexer": "ipython2",
   "version": "2.7.11"
  }
 },
 "nbformat": 4,
 "nbformat_minor": 0
}
